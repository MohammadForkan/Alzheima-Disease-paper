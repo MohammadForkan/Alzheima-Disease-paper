{
 "cells": [
  {
   "cell_type": "code",
   "execution_count": 31,
   "metadata": {},
   "outputs": [],
   "source": [
    "import seaborn as sns\n",
    "import pandas as pd\n",
    "import numpy as np\n",
    "import matplotlib.pyplot as plt\n",
    "import seaborn\n",
    "import warnings\n",
    "warnings.filterwarnings('ignore')"
   ]
  },
  {
   "cell_type": "code",
   "execution_count": 32,
   "metadata": {},
   "outputs": [],
   "source": [
    "df = pd.read_csv('alzheimeer_disease2..csv')\n"
   ]
  },
  {
   "cell_type": "code",
   "execution_count": 33,
   "metadata": {},
   "outputs": [
    {
     "data": {
      "text/html": [
       "<div>\n",
       "<style scoped>\n",
       "    .dataframe tbody tr th:only-of-type {\n",
       "        vertical-align: middle;\n",
       "    }\n",
       "\n",
       "    .dataframe tbody tr th {\n",
       "        vertical-align: top;\n",
       "    }\n",
       "\n",
       "    .dataframe thead th {\n",
       "        text-align: right;\n",
       "    }\n",
       "</style>\n",
       "<table border=\"1\" class=\"dataframe\">\n",
       "  <thead>\n",
       "    <tr style=\"text-align: right;\">\n",
       "      <th></th>\n",
       "      <th>Age</th>\n",
       "      <th>SEX</th>\n",
       "      <th>Visit</th>\n",
       "      <th>CDR</th>\n",
       "      <th>MRI ID</th>\n",
       "      <th>MMSE</th>\n",
       "      <th>MR Delay</th>\n",
       "      <th>thalach</th>\n",
       "      <th>EDUC</th>\n",
       "      <th>nWBV</th>\n",
       "      <th>SES</th>\n",
       "      <th>eTIV</th>\n",
       "      <th>ASF</th>\n",
       "      <th>alzhei</th>\n",
       "    </tr>\n",
       "  </thead>\n",
       "  <tbody>\n",
       "    <tr>\n",
       "      <th>0</th>\n",
       "      <td>87</td>\n",
       "      <td>1</td>\n",
       "      <td>1</td>\n",
       "      <td>0.0</td>\n",
       "      <td>233</td>\n",
       "      <td>27</td>\n",
       "      <td>0</td>\n",
       "      <td>150</td>\n",
       "      <td>14</td>\n",
       "      <td>0.696</td>\n",
       "      <td>0</td>\n",
       "      <td>1987</td>\n",
       "      <td>0.883</td>\n",
       "      <td>1</td>\n",
       "    </tr>\n",
       "    <tr>\n",
       "      <th>1</th>\n",
       "      <td>88</td>\n",
       "      <td>1</td>\n",
       "      <td>2</td>\n",
       "      <td>0.0</td>\n",
       "      <td>250</td>\n",
       "      <td>30</td>\n",
       "      <td>457</td>\n",
       "      <td>187</td>\n",
       "      <td>14</td>\n",
       "      <td>0.681</td>\n",
       "      <td>0</td>\n",
       "      <td>2004</td>\n",
       "      <td>0.876</td>\n",
       "      <td>1</td>\n",
       "    </tr>\n",
       "    <tr>\n",
       "      <th>2</th>\n",
       "      <td>75</td>\n",
       "      <td>0</td>\n",
       "      <td>1</td>\n",
       "      <td>0.5</td>\n",
       "      <td>204</td>\n",
       "      <td>23</td>\n",
       "      <td>0</td>\n",
       "      <td>172</td>\n",
       "      <td>12</td>\n",
       "      <td>0.736</td>\n",
       "      <td>2</td>\n",
       "      <td>1678</td>\n",
       "      <td>1.046</td>\n",
       "      <td>1</td>\n",
       "    </tr>\n",
       "    <tr>\n",
       "      <th>3</th>\n",
       "      <td>76</td>\n",
       "      <td>1</td>\n",
       "      <td>2</td>\n",
       "      <td>0.5</td>\n",
       "      <td>236</td>\n",
       "      <td>28</td>\n",
       "      <td>560</td>\n",
       "      <td>178</td>\n",
       "      <td>12</td>\n",
       "      <td>0.713</td>\n",
       "      <td>2</td>\n",
       "      <td>1738</td>\n",
       "      <td>1.010</td>\n",
       "      <td>1</td>\n",
       "    </tr>\n",
       "    <tr>\n",
       "      <th>4</th>\n",
       "      <td>80</td>\n",
       "      <td>0</td>\n",
       "      <td>3</td>\n",
       "      <td>0.5</td>\n",
       "      <td>354</td>\n",
       "      <td>22</td>\n",
       "      <td>1895</td>\n",
       "      <td>163</td>\n",
       "      <td>12</td>\n",
       "      <td>0.701</td>\n",
       "      <td>2</td>\n",
       "      <td>1698</td>\n",
       "      <td>1.034</td>\n",
       "      <td>1</td>\n",
       "    </tr>\n",
       "    <tr>\n",
       "      <th>5</th>\n",
       "      <td>88</td>\n",
       "      <td>1</td>\n",
       "      <td>1</td>\n",
       "      <td>0.0</td>\n",
       "      <td>192</td>\n",
       "      <td>28</td>\n",
       "      <td>0</td>\n",
       "      <td>148</td>\n",
       "      <td>18</td>\n",
       "      <td>0.710</td>\n",
       "      <td>1</td>\n",
       "      <td>1215</td>\n",
       "      <td>1.444</td>\n",
       "      <td>1</td>\n",
       "    </tr>\n",
       "    <tr>\n",
       "      <th>6</th>\n",
       "      <td>90</td>\n",
       "      <td>0</td>\n",
       "      <td>2</td>\n",
       "      <td>0.0</td>\n",
       "      <td>294</td>\n",
       "      <td>27</td>\n",
       "      <td>538</td>\n",
       "      <td>153</td>\n",
       "      <td>18</td>\n",
       "      <td>0.718</td>\n",
       "      <td>1</td>\n",
       "      <td>1200</td>\n",
       "      <td>1.462</td>\n",
       "      <td>1</td>\n",
       "    </tr>\n",
       "    <tr>\n",
       "      <th>7</th>\n",
       "      <td>80</td>\n",
       "      <td>1</td>\n",
       "      <td>1</td>\n",
       "      <td>0.0</td>\n",
       "      <td>263</td>\n",
       "      <td>28</td>\n",
       "      <td>0</td>\n",
       "      <td>173</td>\n",
       "      <td>12</td>\n",
       "      <td>0.712</td>\n",
       "      <td>2</td>\n",
       "      <td>1689</td>\n",
       "      <td>1.039</td>\n",
       "      <td>1</td>\n",
       "    </tr>\n",
       "    <tr>\n",
       "      <th>8</th>\n",
       "      <td>83</td>\n",
       "      <td>1</td>\n",
       "      <td>2</td>\n",
       "      <td>0.5</td>\n",
       "      <td>199</td>\n",
       "      <td>29</td>\n",
       "      <td>1010</td>\n",
       "      <td>162</td>\n",
       "      <td>12</td>\n",
       "      <td>0.711</td>\n",
       "      <td>2</td>\n",
       "      <td>1701</td>\n",
       "      <td>1.032</td>\n",
       "      <td>1</td>\n",
       "    </tr>\n",
       "    <tr>\n",
       "      <th>9</th>\n",
       "      <td>85</td>\n",
       "      <td>1</td>\n",
       "      <td>3</td>\n",
       "      <td>0.0</td>\n",
       "      <td>168</td>\n",
       "      <td>30</td>\n",
       "      <td>1603</td>\n",
       "      <td>174</td>\n",
       "      <td>12</td>\n",
       "      <td>0.705</td>\n",
       "      <td>2</td>\n",
       "      <td>1699</td>\n",
       "      <td>1.033</td>\n",
       "      <td>1</td>\n",
       "    </tr>\n",
       "    <tr>\n",
       "      <th>10</th>\n",
       "      <td>71</td>\n",
       "      <td>1</td>\n",
       "      <td>1</td>\n",
       "      <td>0.5</td>\n",
       "      <td>239</td>\n",
       "      <td>28</td>\n",
       "      <td>0</td>\n",
       "      <td>160</td>\n",
       "      <td>16</td>\n",
       "      <td>0.748</td>\n",
       "      <td>2</td>\n",
       "      <td>1357</td>\n",
       "      <td>1.293</td>\n",
       "      <td>1</td>\n",
       "    </tr>\n",
       "    <tr>\n",
       "      <th>11</th>\n",
       "      <td>73</td>\n",
       "      <td>0</td>\n",
       "      <td>3</td>\n",
       "      <td>1.0</td>\n",
       "      <td>275</td>\n",
       "      <td>27</td>\n",
       "      <td>518</td>\n",
       "      <td>139</td>\n",
       "      <td>16</td>\n",
       "      <td>0.727</td>\n",
       "      <td>2</td>\n",
       "      <td>1365</td>\n",
       "      <td>1.286</td>\n",
       "      <td>1</td>\n",
       "    </tr>\n",
       "    <tr>\n",
       "      <th>12</th>\n",
       "      <td>75</td>\n",
       "      <td>1</td>\n",
       "      <td>4</td>\n",
       "      <td>1.0</td>\n",
       "      <td>266</td>\n",
       "      <td>27</td>\n",
       "      <td>1281</td>\n",
       "      <td>171</td>\n",
       "      <td>16</td>\n",
       "      <td>0.710</td>\n",
       "      <td>2</td>\n",
       "      <td>1372</td>\n",
       "      <td>1.279</td>\n",
       "      <td>1</td>\n",
       "    </tr>\n",
       "    <tr>\n",
       "      <th>13</th>\n",
       "      <td>93</td>\n",
       "      <td>1</td>\n",
       "      <td>1</td>\n",
       "      <td>0.0</td>\n",
       "      <td>211</td>\n",
       "      <td>30</td>\n",
       "      <td>0</td>\n",
       "      <td>144</td>\n",
       "      <td>14</td>\n",
       "      <td>0.698</td>\n",
       "      <td>1</td>\n",
       "      <td>1272</td>\n",
       "      <td>1.380</td>\n",
       "      <td>1</td>\n",
       "    </tr>\n",
       "    <tr>\n",
       "      <th>14</th>\n",
       "      <td>95</td>\n",
       "      <td>0</td>\n",
       "      <td>2</td>\n",
       "      <td>0.0</td>\n",
       "      <td>283</td>\n",
       "      <td>29</td>\n",
       "      <td>742</td>\n",
       "      <td>162</td>\n",
       "      <td>14</td>\n",
       "      <td>0.703</td>\n",
       "      <td>2</td>\n",
       "      <td>1257</td>\n",
       "      <td>1.396</td>\n",
       "      <td>1</td>\n",
       "    </tr>\n",
       "  </tbody>\n",
       "</table>\n",
       "</div>"
      ],
      "text/plain": [
       "    Age  SEX  Visit  CDR  MRI ID  MMSE  MR Delay  thalach  EDUC   nWBV  SES  \\\n",
       "0    87    1      1  0.0     233    27         0      150    14  0.696    0   \n",
       "1    88    1      2  0.0     250    30       457      187    14  0.681    0   \n",
       "2    75    0      1  0.5     204    23         0      172    12  0.736    2   \n",
       "3    76    1      2  0.5     236    28       560      178    12  0.713    2   \n",
       "4    80    0      3  0.5     354    22      1895      163    12  0.701    2   \n",
       "5    88    1      1  0.0     192    28         0      148    18  0.710    1   \n",
       "6    90    0      2  0.0     294    27       538      153    18  0.718    1   \n",
       "7    80    1      1  0.0     263    28         0      173    12  0.712    2   \n",
       "8    83    1      2  0.5     199    29      1010      162    12  0.711    2   \n",
       "9    85    1      3  0.0     168    30      1603      174    12  0.705    2   \n",
       "10   71    1      1  0.5     239    28         0      160    16  0.748    2   \n",
       "11   73    0      3  1.0     275    27       518      139    16  0.727    2   \n",
       "12   75    1      4  1.0     266    27      1281      171    16  0.710    2   \n",
       "13   93    1      1  0.0     211    30         0      144    14  0.698    1   \n",
       "14   95    0      2  0.0     283    29       742      162    14  0.703    2   \n",
       "\n",
       "    eTIV    ASF  alzhei  \n",
       "0   1987  0.883       1  \n",
       "1   2004  0.876       1  \n",
       "2   1678  1.046       1  \n",
       "3   1738  1.010       1  \n",
       "4   1698  1.034       1  \n",
       "5   1215  1.444       1  \n",
       "6   1200  1.462       1  \n",
       "7   1689  1.039       1  \n",
       "8   1701  1.032       1  \n",
       "9   1699  1.033       1  \n",
       "10  1357  1.293       1  \n",
       "11  1365  1.286       1  \n",
       "12  1372  1.279       1  \n",
       "13  1272  1.380       1  \n",
       "14  1257  1.396       1  "
      ]
     },
     "execution_count": 33,
     "metadata": {},
     "output_type": "execute_result"
    }
   ],
   "source": [
    "df.head(15)"
   ]
  },
  {
   "cell_type": "code",
   "execution_count": 34,
   "metadata": {},
   "outputs": [
    {
     "data": {
      "text/plain": [
       "(399, 14)"
      ]
     },
     "execution_count": 34,
     "metadata": {},
     "output_type": "execute_result"
    }
   ],
   "source": [
    " df.shape"
   ]
  },
  {
   "cell_type": "code",
   "execution_count": 35,
   "metadata": {},
   "outputs": [
    {
     "data": {
      "text/plain": [
       "Index(['Age', 'SEX', 'Visit', 'CDR', 'MRI ID', 'MMSE', 'MR Delay', 'thalach',\n",
       "       'EDUC', 'nWBV', 'SES', 'eTIV', 'ASF', 'alzhei'],\n",
       "      dtype='object')"
      ]
     },
     "execution_count": 35,
     "metadata": {},
     "output_type": "execute_result"
    }
   ],
   "source": [
    "df.columns"
   ]
  },
  {
   "cell_type": "code",
   "execution_count": 36,
   "metadata": {},
   "outputs": [
    {
     "data": {
      "text/html": [
       "<div>\n",
       "<style scoped>\n",
       "    .dataframe tbody tr th:only-of-type {\n",
       "        vertical-align: middle;\n",
       "    }\n",
       "\n",
       "    .dataframe tbody tr th {\n",
       "        vertical-align: top;\n",
       "    }\n",
       "\n",
       "    .dataframe thead th {\n",
       "        text-align: right;\n",
       "    }\n",
       "</style>\n",
       "<table border=\"1\" class=\"dataframe\">\n",
       "  <thead>\n",
       "    <tr style=\"text-align: right;\">\n",
       "      <th></th>\n",
       "      <th>Age</th>\n",
       "      <th>SEX</th>\n",
       "      <th>Visit</th>\n",
       "      <th>CDR</th>\n",
       "      <th>MRI ID</th>\n",
       "      <th>MMSE</th>\n",
       "      <th>MR Delay</th>\n",
       "      <th>thalach</th>\n",
       "      <th>EDUC</th>\n",
       "      <th>nWBV</th>\n",
       "      <th>SES</th>\n",
       "      <th>eTIV</th>\n",
       "      <th>ASF</th>\n",
       "      <th>alzhei</th>\n",
       "    </tr>\n",
       "  </thead>\n",
       "  <tbody>\n",
       "    <tr>\n",
       "      <th>count</th>\n",
       "      <td>399.000000</td>\n",
       "      <td>399.000000</td>\n",
       "      <td>399.000000</td>\n",
       "      <td>399.000000</td>\n",
       "      <td>399.000000</td>\n",
       "      <td>399.000000</td>\n",
       "      <td>399.000000</td>\n",
       "      <td>399.000000</td>\n",
       "      <td>399.000000</td>\n",
       "      <td>399.000000</td>\n",
       "      <td>399.000000</td>\n",
       "      <td>399.000000</td>\n",
       "      <td>399.000000</td>\n",
       "      <td>399.000000</td>\n",
       "    </tr>\n",
       "    <tr>\n",
       "      <th>mean</th>\n",
       "      <td>77.393484</td>\n",
       "      <td>0.704261</td>\n",
       "      <td>1.729323</td>\n",
       "      <td>0.278195</td>\n",
       "      <td>247.373434</td>\n",
       "      <td>26.556391</td>\n",
       "      <td>488.719298</td>\n",
       "      <td>148.290727</td>\n",
       "      <td>14.135338</td>\n",
       "      <td>0.725341</td>\n",
       "      <td>1.340852</td>\n",
       "      <td>1483.696742</td>\n",
       "      <td>1.195694</td>\n",
       "      <td>0.471178</td>\n",
       "    </tr>\n",
       "    <tr>\n",
       "      <th>std</th>\n",
       "      <td>6.857711</td>\n",
       "      <td>0.456947</td>\n",
       "      <td>0.914384</td>\n",
       "      <td>0.373831</td>\n",
       "      <td>46.660415</td>\n",
       "      <td>3.770582</td>\n",
       "      <td>619.462229</td>\n",
       "      <td>21.088488</td>\n",
       "      <td>2.848208</td>\n",
       "      <td>0.034748</td>\n",
       "      <td>0.579473</td>\n",
       "      <td>156.525098</td>\n",
       "      <td>0.123532</td>\n",
       "      <td>0.499795</td>\n",
       "    </tr>\n",
       "    <tr>\n",
       "      <th>min</th>\n",
       "      <td>60.000000</td>\n",
       "      <td>0.000000</td>\n",
       "      <td>1.000000</td>\n",
       "      <td>0.000000</td>\n",
       "      <td>126.000000</td>\n",
       "      <td>4.000000</td>\n",
       "      <td>0.000000</td>\n",
       "      <td>71.000000</td>\n",
       "      <td>6.000000</td>\n",
       "      <td>0.644000</td>\n",
       "      <td>0.000000</td>\n",
       "      <td>1106.000000</td>\n",
       "      <td>0.876000</td>\n",
       "      <td>0.000000</td>\n",
       "    </tr>\n",
       "    <tr>\n",
       "      <th>25%</th>\n",
       "      <td>73.000000</td>\n",
       "      <td>0.000000</td>\n",
       "      <td>1.000000</td>\n",
       "      <td>0.000000</td>\n",
       "      <td>217.500000</td>\n",
       "      <td>23.000000</td>\n",
       "      <td>0.000000</td>\n",
       "      <td>141.000000</td>\n",
       "      <td>12.000000</td>\n",
       "      <td>0.705000</td>\n",
       "      <td>1.000000</td>\n",
       "      <td>1380.500000</td>\n",
       "      <td>1.135500</td>\n",
       "      <td>0.000000</td>\n",
       "    </tr>\n",
       "    <tr>\n",
       "      <th>50%</th>\n",
       "      <td>78.000000</td>\n",
       "      <td>1.000000</td>\n",
       "      <td>1.000000</td>\n",
       "      <td>0.000000</td>\n",
       "      <td>254.000000</td>\n",
       "      <td>28.000000</td>\n",
       "      <td>0.000000</td>\n",
       "      <td>146.000000</td>\n",
       "      <td>13.000000</td>\n",
       "      <td>0.717000</td>\n",
       "      <td>1.000000</td>\n",
       "      <td>1491.000000</td>\n",
       "      <td>1.177000</td>\n",
       "      <td>0.000000</td>\n",
       "    </tr>\n",
       "    <tr>\n",
       "      <th>75%</th>\n",
       "      <td>81.000000</td>\n",
       "      <td>1.000000</td>\n",
       "      <td>2.000000</td>\n",
       "      <td>0.500000</td>\n",
       "      <td>268.000000</td>\n",
       "      <td>29.000000</td>\n",
       "      <td>771.500000</td>\n",
       "      <td>163.000000</td>\n",
       "      <td>16.000000</td>\n",
       "      <td>0.748000</td>\n",
       "      <td>2.000000</td>\n",
       "      <td>1545.000000</td>\n",
       "      <td>1.271000</td>\n",
       "      <td>1.000000</td>\n",
       "    </tr>\n",
       "    <tr>\n",
       "      <th>max</th>\n",
       "      <td>98.000000</td>\n",
       "      <td>1.000000</td>\n",
       "      <td>5.000000</td>\n",
       "      <td>2.000000</td>\n",
       "      <td>564.000000</td>\n",
       "      <td>30.000000</td>\n",
       "      <td>2639.000000</td>\n",
       "      <td>202.000000</td>\n",
       "      <td>23.000000</td>\n",
       "      <td>0.837000</td>\n",
       "      <td>2.000000</td>\n",
       "      <td>2004.000000</td>\n",
       "      <td>1.587000</td>\n",
       "      <td>1.000000</td>\n",
       "    </tr>\n",
       "  </tbody>\n",
       "</table>\n",
       "</div>"
      ],
      "text/plain": [
       "              Age         SEX       Visit         CDR      MRI ID        MMSE  \\\n",
       "count  399.000000  399.000000  399.000000  399.000000  399.000000  399.000000   \n",
       "mean    77.393484    0.704261    1.729323    0.278195  247.373434   26.556391   \n",
       "std      6.857711    0.456947    0.914384    0.373831   46.660415    3.770582   \n",
       "min     60.000000    0.000000    1.000000    0.000000  126.000000    4.000000   \n",
       "25%     73.000000    0.000000    1.000000    0.000000  217.500000   23.000000   \n",
       "50%     78.000000    1.000000    1.000000    0.000000  254.000000   28.000000   \n",
       "75%     81.000000    1.000000    2.000000    0.500000  268.000000   29.000000   \n",
       "max     98.000000    1.000000    5.000000    2.000000  564.000000   30.000000   \n",
       "\n",
       "          MR Delay     thalach        EDUC        nWBV         SES  \\\n",
       "count   399.000000  399.000000  399.000000  399.000000  399.000000   \n",
       "mean    488.719298  148.290727   14.135338    0.725341    1.340852   \n",
       "std     619.462229   21.088488    2.848208    0.034748    0.579473   \n",
       "min       0.000000   71.000000    6.000000    0.644000    0.000000   \n",
       "25%       0.000000  141.000000   12.000000    0.705000    1.000000   \n",
       "50%       0.000000  146.000000   13.000000    0.717000    1.000000   \n",
       "75%     771.500000  163.000000   16.000000    0.748000    2.000000   \n",
       "max    2639.000000  202.000000   23.000000    0.837000    2.000000   \n",
       "\n",
       "              eTIV         ASF      alzhei  \n",
       "count   399.000000  399.000000  399.000000  \n",
       "mean   1483.696742    1.195694    0.471178  \n",
       "std     156.525098    0.123532    0.499795  \n",
       "min    1106.000000    0.876000    0.000000  \n",
       "25%    1380.500000    1.135500    0.000000  \n",
       "50%    1491.000000    1.177000    0.000000  \n",
       "75%    1545.000000    1.271000    1.000000  \n",
       "max    2004.000000    1.587000    1.000000  "
      ]
     },
     "execution_count": 36,
     "metadata": {},
     "output_type": "execute_result"
    }
   ],
   "source": [
    "df.describe()"
   ]
  },
  {
   "cell_type": "code",
   "execution_count": 37,
   "metadata": {},
   "outputs": [
    {
     "data": {
      "text/plain": [
       "Age         0\n",
       "SEX         0\n",
       "Visit       0\n",
       "CDR         0\n",
       "MRI ID      0\n",
       "MMSE        0\n",
       "MR Delay    0\n",
       "thalach     0\n",
       "EDUC        0\n",
       "nWBV        0\n",
       "SES         0\n",
       "eTIV        0\n",
       "ASF         0\n",
       "alzhei      0\n",
       "dtype: int64"
      ]
     },
     "execution_count": 37,
     "metadata": {},
     "output_type": "execute_result"
    }
   ],
   "source": [
    "df.isnull().sum()"
   ]
  },
  {
   "cell_type": "code",
   "execution_count": 38,
   "metadata": {},
   "outputs": [
    {
     "name": "stdout",
     "output_type": "stream",
     "text": [
      "<class 'pandas.core.frame.DataFrame'>\n",
      "RangeIndex: 399 entries, 0 to 398\n",
      "Data columns (total 14 columns):\n",
      " #   Column    Non-Null Count  Dtype  \n",
      "---  ------    --------------  -----  \n",
      " 0   Age       399 non-null    int64  \n",
      " 1   SEX       399 non-null    int64  \n",
      " 2   Visit     399 non-null    int64  \n",
      " 3   CDR       399 non-null    float64\n",
      " 4   MRI ID    399 non-null    int64  \n",
      " 5   MMSE      399 non-null    int64  \n",
      " 6   MR Delay  399 non-null    int64  \n",
      " 7   thalach   399 non-null    int64  \n",
      " 8   EDUC      399 non-null    int64  \n",
      " 9   nWBV      399 non-null    float64\n",
      " 10  SES       399 non-null    int64  \n",
      " 11  eTIV      399 non-null    int64  \n",
      " 12  ASF       399 non-null    float64\n",
      " 13  alzhei    399 non-null    int64  \n",
      "dtypes: float64(3), int64(11)\n",
      "memory usage: 43.8 KB\n",
      "None\n"
     ]
    }
   ],
   "source": [
    "print(df.info())"
   ]
  },
  {
   "cell_type": "code",
   "execution_count": 39,
   "metadata": {},
   "outputs": [
    {
     "data": {
      "image/png": "[encoded data removed]",
      "text/plain": [
       "<Figure size 864x864 with 15 Axes>"
      ]
     },
     "metadata": {
      "needs_background": "light"
     },
     "output_type": "display_data"
    }
   ],
   "source": [
    "df.hist(figsize=(12,12), layout=(5,3));"
   ]
  },
  {
   "cell_type": "code",
   "execution_count": 40,
   "metadata": {},
   "outputs": [
    {
     "data": {
      "text/plain": [
       "<seaborn.axisgrid.FacetGrid at 0x18a8af7e340>"
      ]
     },
     "execution_count": 40,
     "metadata": {},
     "output_type": "execute_result"
    },
    {
     "data": {
      "image/png": "[encoded data removed]",
      "text/plain": [
       "<Figure size 402.375x360 with 1 Axes>"
      ]
     },
     "metadata": {
      "needs_background": "light"
     },
     "output_type": "display_data"
    }
   ],
   "source": [
    "sns.catplot(data=df, x='SEX', y='Age',  hue='alzhei', palette='husl')"
   ]
  },
  {
   "cell_type": "code",
   "execution_count": 41,
   "metadata": {},
   "outputs": [
    {
     "data": {
      "text/plain": [
       "<AxesSubplot:xlabel='SEX', ylabel='count'>"
      ]
     },
     "execution_count": 41,
     "metadata": {},
     "output_type": "execute_result"
    },
    {
     "data": {
      "image/png": "[encoded data removed]",
      "text/plain": [
       "<Figure size 432x288 with 1 Axes>"
      ]
     },
     "metadata": {
      "needs_background": "light"
     },
     "output_type": "display_data"
    }
   ],
   "source": [
    "sns.countplot(x='SEX', data=df, palette='husl', hue='alzhei')"
   ]
  },
  {
   "cell_type": "code",
   "execution_count": 42,
   "metadata": {},
   "outputs": [
    {
     "data": {
      "text/plain": [
       "1    281\n",
       "0    118\n",
       "Name: SEX, dtype: int64"
      ]
     },
     "execution_count": 42,
     "metadata": {},
     "output_type": "execute_result"
    }
   ],
   "source": [
    "df['SEX'].value_counts()"
   ]
  },
  {
   "cell_type": "code",
   "execution_count": 43,
   "metadata": {},
   "outputs": [
    {
     "data": {
      "text/plain": [
       "0    211\n",
       "1    188\n",
       "Name: alzhei, dtype: int64"
      ]
     },
     "execution_count": 43,
     "metadata": {},
     "output_type": "execute_result"
    }
   ],
   "source": [
    "df['alzhei'].value_counts()"
   ]
  },
  {
   "cell_type": "code",
   "execution_count": 44,
   "metadata": {},
   "outputs": [
    {
     "data": {
      "text/plain": [
       "<AxesSubplot:xlabel='CDR', ylabel='count'>"
      ]
     },
     "execution_count": 44,
     "metadata": {},
     "output_type": "execute_result"
    },
    {
     "data": {
      "image/png": "[encoded data removed]",
      "text/plain": [
       "<Figure size 432x288 with 1 Axes>"
      ]
     },
     "metadata": {
      "needs_background": "light"
     },
     "output_type": "display_data"
    }
   ],
   "source": [
    "sns.countplot(x='CDR',hue='alzhei',data=df)"
   ]
  },
  {
   "cell_type": "code",
   "execution_count": 45,
   "metadata": {},
   "outputs": [
    {
     "data": {
      "text/plain": [
       "0.0    230\n",
       "0.5    122\n",
       "1.0     44\n",
       "2.0      3\n",
       "Name: CDR, dtype: int64"
      ]
     },
     "execution_count": 45,
     "metadata": {},
     "output_type": "execute_result"
    }
   ],
   "source": [
    "df['CDR'].value_counts()"
   ]
  },
  {
   "cell_type": "code",
   "execution_count": 16,
   "metadata": {},
   "outputs": [
    {
     "ename": "NameError",
     "evalue": "name 'X' is not defined",
     "output_type": "error",
     "traceback": [
      "\u001b[1;31m---------------------------------------------------------------------------\u001b[0m",
      "\u001b[1;31mNameError\u001b[0m                                 Traceback (most recent call last)",
      "\u001b[1;32m<ipython-input-16-23a1628d7484>\u001b[0m in \u001b[0;36m<module>\u001b[1;34m\u001b[0m\n\u001b[0;32m      2\u001b[0m \u001b[0my\u001b[0m \u001b[1;33m=\u001b[0m \u001b[0mdf\u001b[0m\u001b[1;33m[\u001b[0m\u001b[1;34m'alzhei'\u001b[0m\u001b[1;33m]\u001b[0m\u001b[1;33m\u001b[0m\u001b[1;33m\u001b[0m\u001b[0m\n\u001b[0;32m      3\u001b[0m \u001b[1;33m\u001b[0m\u001b[0m\n\u001b[1;32m----> 4\u001b[1;33m \u001b[0mprint\u001b[0m\u001b[1;33m(\u001b[0m\u001b[0mX\u001b[0m\u001b[1;33m.\u001b[0m\u001b[0mhead\u001b[0m\u001b[1;33m(\u001b[0m\u001b[1;36m2\u001b[0m\u001b[1;33m)\u001b[0m\u001b[1;33m)\u001b[0m\u001b[1;33m\u001b[0m\u001b[1;33m\u001b[0m\u001b[0m\n\u001b[0m\u001b[0;32m      5\u001b[0m \u001b[0mprint\u001b[0m\u001b[1;33m(\u001b[0m\u001b[0my\u001b[0m\u001b[1;33m.\u001b[0m\u001b[0mhead\u001b[0m\u001b[1;33m(\u001b[0m\u001b[1;36m2\u001b[0m\u001b[1;33m)\u001b[0m\u001b[1;33m)\u001b[0m\u001b[1;33m\u001b[0m\u001b[1;33m\u001b[0m\u001b[0m\n",
      "\u001b[1;31mNameError\u001b[0m: name 'X' is not defined"
     ]
    }
   ],
   "source": [
    "x = df.drop('alzhei', axis = 1)\n",
    "y = df['alzhei']\n",
    "\n",
    "print(X.head(2))\n",
    "print(y.head(2))"
   ]
  },
  {
   "cell_type": "code",
   "execution_count": null,
   "metadata": {},
   "outputs": [],
   "source": []
  },
  {
   "cell_type": "code",
   "execution_count": 46,
   "metadata": {},
   "outputs": [],
   "source": [
    "from sklearn.model_selection import train_test_split\n",
    "from sklearn.preprocessing import StandardScaler\n",
    "StandardScaler = StandardScaler()  \n",
    "columns_to_scale = ['SEX','Age','EDUC','SES','MRI ID','ASF']\n",
    "df[columns_to_scale] = StandardScaler.fit_transform(df[columns_to_scale])"
   ]
  },
  {
   "cell_type": "code",
   "execution_count": 47,
   "metadata": {},
   "outputs": [
    {
     "data": {
      "text/html": [
       "<div>\n",
       "<style scoped>\n",
       "    .dataframe tbody tr th:only-of-type {\n",
       "        vertical-align: middle;\n",
       "    }\n",
       "\n",
       "    .dataframe tbody tr th {\n",
       "        vertical-align: top;\n",
       "    }\n",
       "\n",
       "    .dataframe thead th {\n",
       "        text-align: right;\n",
       "    }\n",
       "</style>\n",
       "<table border=\"1\" class=\"dataframe\">\n",
       "  <thead>\n",
       "    <tr style=\"text-align: right;\">\n",
       "      <th></th>\n",
       "      <th>Age</th>\n",
       "      <th>SEX</th>\n",
       "      <th>Visit</th>\n",
       "      <th>CDR</th>\n",
       "      <th>MRI ID</th>\n",
       "      <th>MMSE</th>\n",
       "      <th>MR Delay</th>\n",
       "      <th>thalach</th>\n",
       "      <th>EDUC</th>\n",
       "      <th>nWBV</th>\n",
       "      <th>SES</th>\n",
       "      <th>eTIV</th>\n",
       "      <th>ASF</th>\n",
       "      <th>alzhei</th>\n",
       "    </tr>\n",
       "  </thead>\n",
       "  <tbody>\n",
       "    <tr>\n",
       "      <th>0</th>\n",
       "      <td>1.402593</td>\n",
       "      <td>0.648019</td>\n",
       "      <td>1</td>\n",
       "      <td>0.0</td>\n",
       "      <td>-0.308430</td>\n",
       "      <td>27</td>\n",
       "      <td>0</td>\n",
       "      <td>150</td>\n",
       "      <td>-0.047577</td>\n",
       "      <td>0.696</td>\n",
       "      <td>-2.316821</td>\n",
       "      <td>1987</td>\n",
       "      <td>-2.534456</td>\n",
       "      <td>1</td>\n",
       "    </tr>\n",
       "    <tr>\n",
       "      <th>1</th>\n",
       "      <td>1.548597</td>\n",
       "      <td>0.648019</td>\n",
       "      <td>2</td>\n",
       "      <td>0.0</td>\n",
       "      <td>0.056362</td>\n",
       "      <td>30</td>\n",
       "      <td>457</td>\n",
       "      <td>187</td>\n",
       "      <td>-0.047577</td>\n",
       "      <td>0.681</td>\n",
       "      <td>-2.316821</td>\n",
       "      <td>2004</td>\n",
       "      <td>-2.591192</td>\n",
       "      <td>1</td>\n",
       "    </tr>\n",
       "    <tr>\n",
       "      <th>2</th>\n",
       "      <td>-0.349459</td>\n",
       "      <td>-1.543164</td>\n",
       "      <td>1</td>\n",
       "      <td>0.5</td>\n",
       "      <td>-0.930722</td>\n",
       "      <td>23</td>\n",
       "      <td>0</td>\n",
       "      <td>172</td>\n",
       "      <td>-0.750654</td>\n",
       "      <td>0.736</td>\n",
       "      <td>1.138923</td>\n",
       "      <td>1678</td>\n",
       "      <td>-1.213305</td>\n",
       "      <td>1</td>\n",
       "    </tr>\n",
       "    <tr>\n",
       "      <th>3</th>\n",
       "      <td>-0.203455</td>\n",
       "      <td>0.648019</td>\n",
       "      <td>2</td>\n",
       "      <td>0.5</td>\n",
       "      <td>-0.244055</td>\n",
       "      <td>28</td>\n",
       "      <td>560</td>\n",
       "      <td>178</td>\n",
       "      <td>-0.750654</td>\n",
       "      <td>0.713</td>\n",
       "      <td>1.138923</td>\n",
       "      <td>1738</td>\n",
       "      <td>-1.505093</td>\n",
       "      <td>1</td>\n",
       "    </tr>\n",
       "    <tr>\n",
       "      <th>4</th>\n",
       "      <td>0.380563</td>\n",
       "      <td>-1.543164</td>\n",
       "      <td>3</td>\n",
       "      <td>0.5</td>\n",
       "      <td>2.288030</td>\n",
       "      <td>22</td>\n",
       "      <td>1895</td>\n",
       "      <td>163</td>\n",
       "      <td>-0.750654</td>\n",
       "      <td>0.701</td>\n",
       "      <td>1.138923</td>\n",
       "      <td>1698</td>\n",
       "      <td>-1.310567</td>\n",
       "      <td>1</td>\n",
       "    </tr>\n",
       "    <tr>\n",
       "      <th>5</th>\n",
       "      <td>1.548597</td>\n",
       "      <td>0.648019</td>\n",
       "      <td>1</td>\n",
       "      <td>0.0</td>\n",
       "      <td>-1.188222</td>\n",
       "      <td>28</td>\n",
       "      <td>0</td>\n",
       "      <td>148</td>\n",
       "      <td>1.358578</td>\n",
       "      <td>0.710</td>\n",
       "      <td>-0.588949</td>\n",
       "      <td>1215</td>\n",
       "      <td>2.012573</td>\n",
       "      <td>1</td>\n",
       "    </tr>\n",
       "    <tr>\n",
       "      <th>6</th>\n",
       "      <td>1.840606</td>\n",
       "      <td>-1.543164</td>\n",
       "      <td>2</td>\n",
       "      <td>0.0</td>\n",
       "      <td>1.000529</td>\n",
       "      <td>27</td>\n",
       "      <td>538</td>\n",
       "      <td>153</td>\n",
       "      <td>1.358578</td>\n",
       "      <td>0.718</td>\n",
       "      <td>-0.588949</td>\n",
       "      <td>1200</td>\n",
       "      <td>2.158467</td>\n",
       "      <td>1</td>\n",
       "    </tr>\n",
       "    <tr>\n",
       "      <th>7</th>\n",
       "      <td>0.380563</td>\n",
       "      <td>0.648019</td>\n",
       "      <td>1</td>\n",
       "      <td>0.0</td>\n",
       "      <td>0.335320</td>\n",
       "      <td>28</td>\n",
       "      <td>0</td>\n",
       "      <td>173</td>\n",
       "      <td>-0.750654</td>\n",
       "      <td>0.712</td>\n",
       "      <td>1.138923</td>\n",
       "      <td>1689</td>\n",
       "      <td>-1.270041</td>\n",
       "      <td>1</td>\n",
       "    </tr>\n",
       "  </tbody>\n",
       "</table>\n",
       "</div>"
      ],
      "text/plain": [
       "        Age       SEX  Visit  CDR    MRI ID  MMSE  MR Delay  thalach  \\\n",
       "0  1.402593  0.648019      1  0.0 -0.308430    27         0      150   \n",
       "1  1.548597  0.648019      2  0.0  0.056362    30       457      187   \n",
       "2 -0.349459 -1.543164      1  0.5 -0.930722    23         0      172   \n",
       "3 -0.203455  0.648019      2  0.5 -0.244055    28       560      178   \n",
       "4  0.380563 -1.543164      3  0.5  2.288030    22      1895      163   \n",
       "5  1.548597  0.648019      1  0.0 -1.188222    28         0      148   \n",
       "6  1.840606 -1.543164      2  0.0  1.000529    27       538      153   \n",
       "7  0.380563  0.648019      1  0.0  0.335320    28         0      173   \n",
       "\n",
       "       EDUC   nWBV       SES  eTIV       ASF  alzhei  \n",
       "0 -0.047577  0.696 -2.316821  1987 -2.534456       1  \n",
       "1 -0.047577  0.681 -2.316821  2004 -2.591192       1  \n",
       "2 -0.750654  0.736  1.138923  1678 -1.213305       1  \n",
       "3 -0.750654  0.713  1.138923  1738 -1.505093       1  \n",
       "4 -0.750654  0.701  1.138923  1698 -1.310567       1  \n",
       "5  1.358578  0.710 -0.588949  1215  2.012573       1  \n",
       "6  1.358578  0.718 -0.588949  1200  2.158467       1  \n",
       "7 -0.750654  0.712  1.138923  1689 -1.270041       1  "
      ]
     },
     "execution_count": 47,
     "metadata": {},
     "output_type": "execute_result"
    }
   ],
   "source": [
    "df.head(8)"
   ]
  },
  {
   "cell_type": "code",
   "execution_count": 48,
   "metadata": {},
   "outputs": [],
   "source": [
    "X= df.drop(['alzhei'], axis=1)\n",
    "y= df['alzhei']"
   ]
  },
  {
   "cell_type": "code",
   "execution_count": 49,
   "metadata": {},
   "outputs": [],
   "source": [
    "X_train, X_test,y_train, y_test=train_test_split(X,y,test_size=0.3,random_state=40)\n"
   ]
  },
  {
   "cell_type": "code",
   "execution_count": null,
   "metadata": {},
   "outputs": [],
   "source": []
  },
  {
   "cell_type": "code",
   "execution_count": 50,
   "metadata": {},
   "outputs": [
    {
     "name": "stdout",
     "output_type": "stream",
     "text": [
      "X_train- 3627\n",
      "X_test- 1560\n",
      "y_train- 279\n",
      "y_test- 120\n"
     ]
    }
   ],
   "source": [
    "print('X_train-', X_train.size)\n",
    "print('X_test-',X_test.size)\n",
    "print('y_train-', y_train.size)\n",
    "print('y_test-', y_test.size)"
   ]
  },
  {
   "cell_type": "code",
   "execution_count": null,
   "metadata": {},
   "outputs": [],
   "source": [
    "\n"
   ]
  },
  {
   "cell_type": "code",
   "execution_count": 52,
   "metadata": {},
   "outputs": [],
   "source": [
    "from sklearn.linear_model import LogisticRegression\n",
    "lr=LogisticRegression()\n",
    "\n",
    "model1=lr.fit(X_train,y_train)\n",
    "prediction1=model1.predict(X_test)"
   ]
  },
  {
   "cell_type": "code",
   "execution_count": 53,
   "metadata": {},
   "outputs": [
    {
     "data": {
      "text/plain": [
       "array([[46, 19],\n",
       "       [15, 40]], dtype=int64)"
      ]
     },
     "execution_count": 53,
     "metadata": {},
     "output_type": "execute_result"
    }
   ],
   "source": [
    "from sklearn.metrics import confusion_matrix\n",
    "\n",
    "cm=confusion_matrix(y_test,prediction1)\n",
    "cm"
   ]
  },
  {
   "cell_type": "code",
   "execution_count": 54,
   "metadata": {},
   "outputs": [
    {
     "data": {
      "text/plain": [
       "<AxesSubplot:>"
      ]
     },
     "execution_count": 54,
     "metadata": {},
     "output_type": "execute_result"
    },
    {
     "data": {
      "image/png": "[encoded data removed]",
      "text/plain": [
       "<Figure size 432x288 with 2 Axes>"
      ]
     },
     "metadata": {
      "needs_background": "light"
     },
     "output_type": "display_data"
    }
   ],
   "source": [
    "sns.heatmap(cm, annot=True,cmap='BuPu')"
   ]
  },
  {
   "cell_type": "code",
   "execution_count": 55,
   "metadata": {},
   "outputs": [
    {
     "name": "stdout",
     "output_type": "stream",
     "text": [
      "Testing Accuracy: 0.7166666666666667\n"
     ]
    }
   ],
   "source": [
    "TP=cm[0][0]\n",
    "TN=cm[1][1]\n",
    "FN=cm[1][0]\n",
    "FP=cm[0][1]\n",
    "print('Testing Accuracy:',(TP+TN)/(TP+TN+FN+FP))"
   ]
  },
  {
   "cell_type": "code",
   "execution_count": 56,
   "metadata": {},
   "outputs": [
    {
     "data": {
      "text/plain": [
       "0.7166666666666667"
      ]
     },
     "execution_count": 56,
     "metadata": {},
     "output_type": "execute_result"
    }
   ],
   "source": [
    "from sklearn.metrics import accuracy_score\n",
    "accuracy_score(y_test,prediction1)"
   ]
  },
  {
   "cell_type": "code",
   "execution_count": 57,
   "metadata": {},
   "outputs": [
    {
     "name": "stdout",
     "output_type": "stream",
     "text": [
      "              precision    recall  f1-score   support\n",
      "\n",
      "           0       0.75      0.71      0.73        65\n",
      "           1       0.68      0.73      0.70        55\n",
      "\n",
      "    accuracy                           0.72       120\n",
      "   macro avg       0.72      0.72      0.72       120\n",
      "weighted avg       0.72      0.72      0.72       120\n",
      "\n"
     ]
    }
   ],
   "source": [
    "from sklearn.metrics import classification_report\n",
    "print(classification_report(y_test, prediction1))"
   ]
  },
  {
   "cell_type": "code",
   "execution_count": 58,
   "metadata": {},
   "outputs": [],
   "source": [
    "from sklearn.tree import DecisionTreeClassifier\n",
    "\n",
    "dtc=DecisionTreeClassifier()\n",
    "model2=dtc.fit(X_train,y_train)\n",
    "prediction2=model2.predict(X_test)\n",
    "cm2= confusion_matrix(y_test,prediction2)"
   ]
  },
  {
   "cell_type": "code",
   "execution_count": 59,
   "metadata": {},
   "outputs": [
    {
     "data": {
      "text/plain": [
       "array([[44, 21],\n",
       "       [24, 31]], dtype=int64)"
      ]
     },
     "execution_count": 59,
     "metadata": {},
     "output_type": "execute_result"
    }
   ],
   "source": [
    "cm2"
   ]
  },
  {
   "cell_type": "code",
   "execution_count": 60,
   "metadata": {},
   "outputs": [
    {
     "data": {
      "text/plain": [
       "0.625"
      ]
     },
     "execution_count": 60,
     "metadata": {},
     "output_type": "execute_result"
    }
   ],
   "source": [
    "accuracy_score(y_test,prediction2)"
   ]
  },
  {
   "cell_type": "code",
   "execution_count": 61,
   "metadata": {},
   "outputs": [
    {
     "name": "stdout",
     "output_type": "stream",
     "text": [
      "              precision    recall  f1-score   support\n",
      "\n",
      "           0       0.65      0.68      0.66        65\n",
      "           1       0.60      0.56      0.58        55\n",
      "\n",
      "    accuracy                           0.62       120\n",
      "   macro avg       0.62      0.62      0.62       120\n",
      "weighted avg       0.62      0.62      0.62       120\n",
      "\n"
     ]
    }
   ],
   "source": [
    "print(classification_report(y_test, prediction2))"
   ]
  },
  {
   "cell_type": "markdown",
   "metadata": {},
   "source": [
    "from sklearn.metrics import classification_report\n",
    "print(classification_report(y_test, prediction1))"
   ]
  },
  {
   "cell_type": "code",
   "execution_count": 62,
   "metadata": {},
   "outputs": [
    {
     "data": {
      "text/plain": [
       "array([[42, 23],\n",
       "       [10, 45]], dtype=int64)"
      ]
     },
     "execution_count": 62,
     "metadata": {},
     "output_type": "execute_result"
    }
   ],
   "source": [
    "from sklearn.ensemble import RandomForestClassifier\n",
    "\n",
    "rfc=RandomForestClassifier()\n",
    "model3 = rfc.fit(X_train, y_train)\n",
    "prediction3 = model3.predict(X_test)\n",
    "confusion_matrix(y_test, prediction3)"
   ]
  },
  {
   "cell_type": "code",
   "execution_count": 63,
   "metadata": {},
   "outputs": [
    {
     "data": {
      "text/plain": [
       "0.725"
      ]
     },
     "execution_count": 63,
     "metadata": {},
     "output_type": "execute_result"
    }
   ],
   "source": [
    "accuracy_score(y_test, prediction3)"
   ]
  },
  {
   "cell_type": "code",
   "execution_count": 64,
   "metadata": {},
   "outputs": [
    {
     "name": "stdout",
     "output_type": "stream",
     "text": [
      "              precision    recall  f1-score   support\n",
      "\n",
      "           0       0.81      0.65      0.72        65\n",
      "           1       0.66      0.82      0.73        55\n",
      "\n",
      "    accuracy                           0.73       120\n",
      "   macro avg       0.73      0.73      0.72       120\n",
      "weighted avg       0.74      0.72      0.72       120\n",
      "\n"
     ]
    }
   ],
   "source": [
    "print(classification_report(y_test, prediction3))"
   ]
  },
  {
   "cell_type": "code",
   "execution_count": 65,
   "metadata": {},
   "outputs": [],
   "source": [
    "from sklearn.model_selection import KFold\n",
    "from sklearn.model_selection import cross_val_score"
   ]
  },
  {
   "cell_type": "code",
   "execution_count": 66,
   "metadata": {},
   "outputs": [],
   "source": [
    "from sklearn.svm import SVC\n",
    "\n",
    "svm=SVC()\n",
    "model4=svm.fit(X_train,y_train)\n",
    "prediction4=model4.predict(X_test)\n",
    "cm4= confusion_matrix(y_test,prediction4)"
   ]
  },
  {
   "cell_type": "code",
   "execution_count": 67,
   "metadata": {},
   "outputs": [
    {
     "data": {
      "text/plain": [
       "array([[41, 24],\n",
       "       [23, 32]], dtype=int64)"
      ]
     },
     "execution_count": 67,
     "metadata": {},
     "output_type": "execute_result"
    }
   ],
   "source": [
    "cm4"
   ]
  },
  {
   "cell_type": "code",
   "execution_count": 68,
   "metadata": {},
   "outputs": [
    {
     "data": {
      "text/plain": [
       "0.6083333333333333"
      ]
     },
     "execution_count": 68,
     "metadata": {},
     "output_type": "execute_result"
    }
   ],
   "source": [
    "accuracy_score(y_test, prediction4)"
   ]
  },
  {
   "cell_type": "code",
   "execution_count": 69,
   "metadata": {},
   "outputs": [],
   "source": [
    "from sklearn.naive_bayes import GaussianNB\n",
    "\n",
    "NB = GaussianNB()\n",
    "model5 = NB.fit(X_train, y_train)\n",
    "prediction5 = model5.predict(X_test)\n",
    "cm5= confusion_matrix(y_test, prediction5)"
   ]
  },
  {
   "cell_type": "code",
   "execution_count": 70,
   "metadata": {},
   "outputs": [
    {
     "data": {
      "text/plain": [
       "array([[40, 25],\n",
       "       [11, 44]], dtype=int64)"
      ]
     },
     "execution_count": 70,
     "metadata": {},
     "output_type": "execute_result"
    }
   ],
   "source": [
    "cm5"
   ]
  },
  {
   "cell_type": "code",
   "execution_count": 71,
   "metadata": {},
   "outputs": [
    {
     "data": {
      "text/plain": [
       "0.7"
      ]
     },
     "execution_count": 71,
     "metadata": {},
     "output_type": "execute_result"
    }
   ],
   "source": [
    "accuracy_score(y_test, prediction5)"
   ]
  },
  {
   "cell_type": "markdown",
   "metadata": {},
   "source": [
    "from sklearn.tree import DecisionTreeClassifier\n",
    "\n",
    "dtc=DecisionTreeClassifier()\n",
    "model2=dtc.fit(X_train,y_train)\n",
    "prediction2=model2.predict(X_test)\n",
    "cm2= confusion_matrix(y_test,prediction2)"
   ]
  },
  {
   "cell_type": "code",
   "execution_count": 72,
   "metadata": {},
   "outputs": [
    {
     "name": "stdout",
     "output_type": "stream",
     "text": [
      "cm4 [[41 24]\n",
      " [23 32]]\n",
      "-----------\n",
      "cm5 [[40 25]\n",
      " [11 44]]\n"
     ]
    }
   ],
   "source": [
    "print('cm4', cm4)\n",
    "print('-----------')\n",
    "print('cm5',cm5)"
   ]
  },
  {
   "cell_type": "code",
   "execution_count": 73,
   "metadata": {},
   "outputs": [
    {
     "data": {
      "text/plain": [
       "array([[40, 25],\n",
       "       [11, 44]], dtype=int64)"
      ]
     },
     "execution_count": 73,
     "metadata": {},
     "output_type": "execute_result"
    }
   ],
   "source": [
    "from sklearn.neighbors import KNeighborsClassifier\n",
    "\n",
    "KNN = KNeighborsClassifier()\n",
    "model6 = KNN.fit(X_train, y_train)\n",
    "prediction6 = model6.predict(X_test)\n",
    "cm6= confusion_matrix(y_test, prediction5)\n",
    "cm6"
   ]
  },
  {
   "cell_type": "code",
   "execution_count": 75,
   "metadata": {},
   "outputs": [
    {
     "data": {
      "text/plain": [
       "0.7"
      ]
     },
     "execution_count": 75,
     "metadata": {},
     "output_type": "execute_result"
    }
   ],
   "source": [
    "accuracy_score(y_test, prediction5)"
   ]
  },
  {
   "cell_type": "code",
   "execution_count": 74,
   "metadata": {},
   "outputs": [
    {
     "name": "stdout",
     "output_type": "stream",
     "text": [
      "KNN : 0.5833333333333334\n",
      "lr : 0.7166666666666667\n",
      "dtc : 0.625\n",
      "rfc : 0.725\n",
      "NB:  0.6083333333333333\n",
      "SVC : 0.7\n"
     ]
    }
   ],
   "source": [
    "print('KNN :', accuracy_score(y_test, prediction6))\n",
    "print('lr :', accuracy_score(y_test, prediction1))\n",
    "print('dtc :', accuracy_score(y_test, prediction2))\n",
    "print('rfc :', accuracy_score(y_test, prediction3))\n",
    "print('NB: ', accuracy_score(y_test, prediction4))\n",
    "print('SVC :', accuracy_score(y_test, prediction5))"
   ]
  },
  {
   "cell_type": "code",
   "execution_count": null,
   "metadata": {},
   "outputs": [],
   "source": []
  },
  {
   "cell_type": "code",
   "execution_count": null,
   "metadata": {},
   "outputs": [],
   "source": []
  }
 ],
 "metadata": {
  "kernelspec": {
   "display_name": "Python 3",
   "language": "python",
   "name": "python3"
  },
  "language_info": {
   "codemirror_mode": {
    "name": "ipython",
    "version": 3
   },
   "file_extension": ".py",
   "mimetype": "text/x-python",
   "name": "python",
   "nbconvert_exporter": "python",
   "pygments_lexer": "ipython3",
   "version": "3.8.5"
  }
 },
 "nbformat": 4,
 "nbformat_minor": 4
}
